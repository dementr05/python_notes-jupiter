{
 "cells": [
  {
   "cell_type": "code",
   "execution_count": null,
   "metadata": {},
   "outputs": [],
   "source": [
    "# Metacharacters of regex module"
   ]
  },
  {
   "cell_type": "code",
   "execution_count": 1,
   "metadata": {},
   "outputs": [
    {
     "name": "stdout",
     "output_type": "stream",
     "text": [
      "hello\n"
     ]
    }
   ],
   "source": [
    "import re\n",
    "print(\"hello\")"
   ]
  },
  {
   "cell_type": "code",
   "execution_count": null,
   "metadata": {},
   "outputs": [],
   "source": [
    "# 4. ^(caret) -> starts with\n",
    "#example , check if the string starts with 'hello'\n",
    "import re\n",
    "txt = \"hello planet\"\n",
    "x = re.findall(\"^h\", txt)\n",
    "print(x)"
   ]
  },
  {
   "cell_type": "code",
   "execution_count": null,
   "metadata": {},
   "outputs": [],
   "source": [
    "# 5. $(dollar) -> ends with\n",
    "# Check if the string ends with 'planet':\n",
    "txt = \"hello planet\"\n",
    "x = re.findall(\"planet$\",txt)\n",
    "if x:\n",
    "    print(\"yes\")\n",
    "else:\n",
    "    print(\"no\")\n",
    "\n"
   ]
  },
  {
   "cell_type": "code",
   "execution_count": null,
   "metadata": {},
   "outputs": [],
   "source": [
    "# 6. * -> Zero or more occurences\n",
    "# example: Search for a sequence that starts with \"he\", \n",
    "#followed by 0 or more  (any) characters, and an \"o\":\n",
    "txt = \"hello planet\"\n",
    "x = re.findall(\"he.*o\",txt)\n",
    "print(x)"
   ]
  },
  {
   "cell_type": "code",
   "execution_count": null,
   "metadata": {},
   "outputs": [],
   "source": [
    "# 7. + -> one or more occurences \n",
    "# example: #Search for a sequence that starts with \"he\",\n",
    "# followed by 1 or more  (any) characters, and an \"o\":\n",
    "\n",
    "x = re.findall(\"he.+o\",txt)\n",
    "print(x)"
   ]
  },
  {
   "cell_type": "code",
   "execution_count": null,
   "metadata": {},
   "outputs": [],
   "source": [
    "# 7. ? -> zero or one occurences\n",
    "#example:\n",
    "\n",
    "txt = \"hello planet\"\n",
    "\n",
    "#Search for a sequence that starts with \"he\", \n",
    "#followed by 0 or 1  (any) character, and an \"o\":\n",
    "\n",
    "x = re.findall(\"he.?o\", txt)\n",
    "\n",
    "print(x)\n",
    "\n",
    "#This time we got no match, because there were not zero, \n",
    "#not one, but two characters between \"he\" and the \"o\""
   ]
  },
  {
   "cell_type": "code",
   "execution_count": null,
   "metadata": {},
   "outputs": [],
   "source": [
    "# 8. {} -> Exactly the specified number of occurrences\n",
    "txt = \"hello planet\"\n",
    "\n",
    "#Search for a sequence that starts with \"he\", followed excactly 2 (any) characters, and an \"o\":\n",
    "\n",
    "x = re.findall(\"he.{2}o\", txt)\n",
    "\n",
    "# lets take an another example\n",
    "text2 = \"helo palnet\"\n",
    "xee = re.findall(\"he.{1}o\",text2)\n",
    "\n",
    "print(x)\n",
    "print(xee)"
   ]
  },
  {
   "cell_type": "code",
   "execution_count": null,
   "metadata": {},
   "outputs": [],
   "source": [
    "#10. | -> either or\n",
    "txt = \"The rain in Spain falls mainly in the plain!\"\n",
    "\n",
    "#Check if the string contains either \"falls\" or \"stays\":\n",
    "\n",
    "x = re.findall(\"falls|stays\", txt)\n",
    "\n",
    "print(x)\n",
    "\n",
    "if x:\n",
    "  print(\"Yes, there is at least one match!\")\n",
    "else:\n",
    "  print(\"No match\")\n"
   ]
  },
  {
   "cell_type": "code",
   "execution_count": null,
   "metadata": {},
   "outputs": [],
   "source": [
    "#special Sequences"
   ]
  },
  {
   "cell_type": "code",
   "execution_count": null,
   "metadata": {},
   "outputs": [],
   "source": [
    "# \\A -> Returns a match if the specified characters are at the beginning of the string\t\n",
    "txt = \"The rain in Spain\"\n",
    "\n",
    "#Check if the string starts with \"The\":\n",
    "\n",
    "x = re.findall(\"\\AThe\", txt)\n",
    "\n",
    "print(x)\n",
    "\n",
    "if x:\n",
    "  print(\"Yes, there is a match!\")\n",
    "else:\n",
    "  print(\"No match\")"
   ]
  },
  {
   "cell_type": "code",
   "execution_count": null,
   "metadata": {},
   "outputs": [],
   "source": [
    "# \\b -> Returns a match where the specified characters are at the \n",
    "#begining or at the end of a word\n",
    "# (the \"r\" in the beginning is making sure that the string is being treated as a \"raw string\")\n",
    "txt = \"The rain in Spain aint\"\n",
    "\n",
    "x = re.findall(r\"ain\\b\",txt) #-> check if \"ain\" is present at the END of a WORD:\n",
    "x2 = re.findall(r\"\\bain\",txt) #-> check if \"ain\" is present at the BEGINING of a word:\n",
    "x1 = re.findall(r\"cth\\b\",txt)\n",
    "\n",
    "print(x)\n",
    "print(x2)\n",
    "if x:\n",
    "    print(\"x:yes, match found\")\n",
    "else:\n",
    "    print(\"x:No match\")\n",
    "\n",
    "\n",
    "if x1:\n",
    "    print(\"x1:yes, match found\")\n",
    "else:\n",
    "    print(\"x1:No match\")"
   ]
  },
  {
   "cell_type": "code",
   "execution_count": null,
   "metadata": {},
   "outputs": [],
   "source": [
    "# \\B -> returns a match where the specified characters are present, but NOT at the\n",
    "# begining (or at the end) of a word\n",
    "txt = \"The rain in Spain paint\"\n",
    "\n",
    "x = re.findall(r\"\\Bain\",txt) #-> ain is NOT present at the begininig\n",
    "x1 = re.findall(r\"ain\\B\",txt) # -> ain is NOT present at the END\n",
    "\n",
    "print(x)\n",
    "print(x1)"
   ]
  },
  {
   "cell_type": "code",
   "execution_count": null,
   "metadata": {},
   "outputs": [],
   "source": [
    "# \\d -> returns a match the string contains digits(numbers from 0-9)\n",
    "\n",
    "#example:\n",
    "\n",
    "text1 = \"the rain in spain\"\n",
    "text2 = \" IPL 2024\"\n",
    "x = re.findall(\"\\d\",text1)\n",
    "x1 = re.findall(\"\\d\",text2)\n",
    "\n",
    "print(x)\n",
    "print(x1)"
   ]
  },
  {
   "cell_type": "code",
   "execution_count": 12,
   "metadata": {},
   "outputs": [
    {
     "name": "stdout",
     "output_type": "stream",
     "text": [
      "['T', 'h', 'e', ' ', 'r', 'a', 'i', 'n', ' ', 'i', 'n', ' ', 's', 'p', 'a', 'i', 'n']\n",
      "['I', 'P', 'L', ' ']\n"
     ]
    }
   ],
   "source": [
    "# \\D -> return a match where the string DOES NOT contain digits\n",
    "\n",
    "txt = \"The rain in spain\"\n",
    "dig = \"IPL 2024\"\n",
    "x = re.findall(\"\\D\",txt)\n",
    "x1= re.findall(\"\\D\",dig)\n",
    "print(x)\n",
    "print(x1)"
   ]
  },
  {
   "cell_type": "code",
   "execution_count": 3,
   "metadata": {},
   "outputs": [
    {
     "name": "stdout",
     "output_type": "stream",
     "text": [
      "[' ', ' ', ' ', ' ']\n",
      "[]\n"
     ]
    }
   ],
   "source": [
    "# \\s -> Returns a match where the string contains a white space character\n",
    "txt = \"The rain in the Spain\"\n",
    "txt1 =\"akash\"\n",
    "x = re.findall(\"\\s\",txt)\n",
    "print(x)\n",
    "x1= re.findall(\"\\s\",txt1)\n",
    "print(x1)"
   ]
  },
  {
   "cell_type": "code",
   "execution_count": 4,
   "metadata": {},
   "outputs": [
    {
     "name": "stdout",
     "output_type": "stream",
     "text": [
      "['T', 'h', 'e', 'r', 'a', 'i', 'n', 'i', 'n', 't', 'h', 'e', 'S', 'p', 'a', 'i', 'n']\n",
      "['a', 'k', 'a', 's', 'h']\n"
     ]
    }
   ],
   "source": [
    "# \\S -> returns a match where the string DOES NOT contain a white space character\n",
    "txt = \"The rain in the Spain\"\n",
    "txt1 =\"akash\"\n",
    "x = re.findall(\"\\S\",txt)\n",
    "print(x)\n",
    "x1= re.findall(\"\\S\",txt1)\n",
    "print(x1)"
   ]
  },
  {
   "cell_type": "code",
   "execution_count": 5,
   "metadata": {},
   "outputs": [
    {
     "name": "stdout",
     "output_type": "stream",
     "text": [
      "['m', 'y', 'n', 'a', 'm', 'e', 'i', 's', 'A', 'K', 'A', 'S', 'H', '_', 'Y', 'A', 'D', 'A', 'V']\n"
     ]
    }
   ],
   "source": [
    "# \\w -> returns a match where the string contains any word characters\n",
    "#(characters from a to Z, digits from 0-9, and the underscore _ character) or alphanumeric char\n",
    "name = \"my name is AKASH_YADAV\"\n",
    "x = re.findall(\"\\w\",name)\n",
    "print(x)"
   ]
  },
  {
   "cell_type": "code",
   "execution_count": 7,
   "metadata": {},
   "outputs": [
    {
     "name": "stdout",
     "output_type": "stream",
     "text": [
      "[' ', ' ', '!', ' ', '@']\n"
     ]
    }
   ],
   "source": [
    "# \\W -> Returns a match where the string DOES NOT contain any word charachters \n",
    "name2 = \"hello akash ! @\"\n",
    "x2 = re.findall(\"\\W\",name2)\n",
    "print(x2)"
   ]
  },
  {
   "cell_type": "code",
   "execution_count": 13,
   "metadata": {},
   "outputs": [
    {
     "name": "stdout",
     "output_type": "stream",
     "text": [
      "['@']\n"
     ]
    }
   ],
   "source": [
    "# \\Z -> returns a match if the specified characters are at the end of the string\n",
    "theText= \"My name is akash yadav @\"\n",
    "te = re.findall(\"@\\Z\", theText)\n",
    "print(te)"
   ]
  },
  {
   "cell_type": "code",
   "execution_count": 4,
   "metadata": {},
   "outputs": [
    {
     "name": "stdout",
     "output_type": "stream",
     "text": [
      "The9rain9in9the9spain\n",
      "The9rain9in the spain\n"
     ]
    }
   ],
   "source": [
    "# The sub() function -> This function replaces the matches with the text of your choice\n",
    "\n",
    "#Example:\n",
    "txt=\"The rain in the spain\"\n",
    "x = re.sub(\"\\s\",\"9\",txt)\n",
    "print(x)\n",
    "\n",
    "x1  = re.sub(\"\\s\",\"9\",txt,2) #->  Here '2' is a praameter we are passing\n",
    "#to sub function that will consider first 2 occurences of whitespace and replace it with 9\n",
    "print(x1)"
   ]
  },
  {
   "cell_type": "code",
   "execution_count": 11,
   "metadata": {},
   "outputs": [
    {
     "name": "stdout",
     "output_type": "stream",
     "text": [
      "['700023']\n",
      "[]\n"
     ]
    }
   ],
   "source": [
    "# The compile() function -> Python’s re.compile() method is used to compile a regular expression\n",
    "# pattern provided as a string into a regex pattern object (re.Pattern). Later we can use this\n",
    "# pattern object to search for a match inside different target strings using regex methods \n",
    "# such as a re.match() or re.search().\n",
    "import re\n",
    "str1 = \"Ankhi's Address is KASBA and it's pincode id 700023\"\n",
    "string_pattern = r\"\\d{6}\" #->pattern to find 6 consecutive digits\n",
    "regex_pattern = re.compile(string_pattern) #->here we are creating an object of specific pattern\n",
    "result = regex_pattern.findall(str1)\n",
    "print(result)\n",
    "\n"
   ]
  },
  {
   "cell_type": "code",
   "execution_count": 14,
   "metadata": {},
   "outputs": [
    {
     "name": "stdout",
     "output_type": "stream",
     "text": [
      "['9', '4', '3', '6', '5', '9', '4', '3', '6', '5', '7', '0', '0', '1', '5', '0']\n",
      "['M', 'y', ' ', 'm', 'o', 'b', 'i', 'l', 'e', ' ', 'n', 'o', ' ', 'i', 's', ' ', '#', ' ', 'a', 'n', 'd', ' ', 'p', 'i', 'n', 'c', 'o', 'd', 'e', ' ', 'i', 's', ' ', '$']\n"
     ]
    }
   ],
   "source": [
    "str = \"My mobile no is #9436594365 and pincode is $700150\"\n",
    "# print all the numerical digits only\n",
    "dig = re.findall(\"\\d\",str)\n",
    "print(dig)\n",
    "#print all the characters in the given string\n",
    "char = re.findall(\"\\D\",str)\n",
    "print(char)"
   ]
  },
  {
   "cell_type": "code",
   "execution_count": 18,
   "metadata": {},
   "outputs": [
    {
     "name": "stdout",
     "output_type": "stream",
     "text": [
      "['M', 'y', 'm', 'o', 'b', 'i', 'l', 'e', 'n', 'o', 'i', 's', '9', '4', '3', '6', '5', '9', '4', '3', '6', '5', 'a', 'n', 'd', 'p', 'i', 'n', 'c', 'o', 'd', 'e', 'i', 's', '7', '0', '0', '1', '5', '0']\n"
     ]
    }
   ],
   "source": [
    "# print all the charachter in the string\n",
    "alls=re.findall(\"[a-zA-Z0-9]\",str)\n",
    "print(alls)"
   ]
  },
  {
   "cell_type": "code",
   "execution_count": 15,
   "metadata": {},
   "outputs": [
    {
     "name": "stdout",
     "output_type": "stream",
     "text": [
      "['M', 'y', 'm', 'o', 'b', 'i', 'l', 'e', 'n', 'o', 'i', 's', '9', '4', '3', '6', '5', '9', '4', '3', '6', '5', 'a', 'n', 'd', 'p', 'i', 'n', 'c', 'o', 'd', 'e', 'i', 's', '7', '0', '0', '1', '5', '0']\n"
     ]
    }
   ],
   "source": [
    "alnum= re.findall(\"\\w\",str)\n",
    "print(alnum)"
   ]
  },
  {
   "cell_type": "code",
   "execution_count": 16,
   "metadata": {},
   "outputs": [
    {
     "name": "stdout",
     "output_type": "stream",
     "text": [
      "[' ', ' ', ' ', ' ', '#', ' ', ' ', ' ', ' ', '$']\n"
     ]
    }
   ],
   "source": [
    "spchar = re.findall(\"\\W\",str)\n",
    "print(spchar)"
   ]
  },
  {
   "cell_type": "code",
   "execution_count": null,
   "metadata": {},
   "outputs": [],
   "source": []
  }
 ],
 "metadata": {
  "kernelspec": {
   "display_name": "Python 3",
   "language": "python",
   "name": "python3"
  },
  "language_info": {
   "codemirror_mode": {
    "name": "ipython",
    "version": 3
   },
   "file_extension": ".py",
   "mimetype": "text/x-python",
   "name": "python",
   "nbconvert_exporter": "python",
   "pygments_lexer": "ipython3",
   "version": "3.10.12"
  }
 },
 "nbformat": 4,
 "nbformat_minor": 2
}
