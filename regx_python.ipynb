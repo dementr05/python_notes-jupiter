{
 "cells": [
  {
   "cell_type": "code",
   "execution_count": null,
   "metadata": {},
   "outputs": [],
   "source": [
    "# Metacharacters of regex module"
   ]
  },
  {
   "cell_type": "code",
   "execution_count": null,
   "metadata": {},
   "outputs": [],
   "source": [
    "import re\n",
    "print(\"hello\")"
   ]
  },
  {
   "cell_type": "code",
   "execution_count": null,
   "metadata": {},
   "outputs": [],
   "source": [
    "# 4. ^(caret) -> starts with\n",
    "#example , check if the string starts with 'hello'\n",
    "import re\n",
    "txt = \"hello planet\"\n",
    "x = re.findall(\"^h\", txt)\n",
    "print(x)"
   ]
  },
  {
   "cell_type": "code",
   "execution_count": null,
   "metadata": {},
   "outputs": [],
   "source": [
    "# 5. $(dollar) -> ends with\n",
    "# Check if the string ends with 'planet':\n",
    "txt = \"hello planet\"\n",
    "x = re.findall(\"planet$\",txt)\n",
    "if x:\n",
    "    print(\"yes\")\n",
    "else:\n",
    "    print(\"no\")\n",
    "\n"
   ]
  },
  {
   "cell_type": "code",
   "execution_count": null,
   "metadata": {},
   "outputs": [],
   "source": [
    "# 6. * -> Zero or more occurences\n",
    "# example: Search for a sequence that starts with \"he\", \n",
    "#followed by 0 or more  (any) characters, and an \"o\":\n",
    "txt = \"hello planet\"\n",
    "x = re.findall(\"he.*o\",txt)\n",
    "print(x)"
   ]
  },
  {
   "cell_type": "code",
   "execution_count": null,
   "metadata": {},
   "outputs": [],
   "source": [
    "# 7. + -> one or more occurences \n",
    "# example: #Search for a sequence that starts with \"he\",\n",
    "# followed by 1 or more  (any) characters, and an \"o\":\n",
    "\n",
    "x = re.findall(\"he.+o\",txt)\n",
    "print(x)"
   ]
  },
  {
   "cell_type": "code",
   "execution_count": null,
   "metadata": {},
   "outputs": [],
   "source": [
    "# 7. ? -> zero or one occurences\n",
    "#example:\n",
    "\n",
    "txt = \"hello planet\"\n",
    "\n",
    "#Search for a sequence that starts with \"he\", \n",
    "#followed by 0 or 1  (any) character, and an \"o\":\n",
    "\n",
    "x = re.findall(\"he.?o\", txt)\n",
    "\n",
    "print(x)\n",
    "\n",
    "#This time we got no match, because there were not zero, \n",
    "#not one, but two characters between \"he\" and the \"o\""
   ]
  },
  {
   "cell_type": "code",
   "execution_count": null,
   "metadata": {},
   "outputs": [],
   "source": [
    "# 8. {} -> Exactly the specified number of occurrences\n",
    "txt = \"hello planet\"\n",
    "\n",
    "#Search for a sequence that starts with \"he\", followed excactly 2 (any) characters, and an \"o\":\n",
    "\n",
    "x = re.findall(\"he.{2}o\", txt)\n",
    "\n",
    "# lets take an another example\n",
    "text2 = \"helo palnet\"\n",
    "xee = re.findall(\"he.{1}o\",text2)\n",
    "\n",
    "print(x)\n",
    "print(xee)"
   ]
  },
  {
   "cell_type": "code",
   "execution_count": null,
   "metadata": {},
   "outputs": [],
   "source": [
    "#10. | -> either or\n",
    "txt = \"The rain in Spain falls mainly in the plain!\"\n",
    "\n",
    "#Check if the string contains either \"falls\" or \"stays\":\n",
    "\n",
    "x = re.findall(\"falls|stays\", txt)\n",
    "\n",
    "print(x)\n",
    "\n",
    "if x:\n",
    "  print(\"Yes, there is at least one match!\")\n",
    "else:\n",
    "  print(\"No match\")\n"
   ]
  },
  {
   "cell_type": "code",
   "execution_count": null,
   "metadata": {},
   "outputs": [],
   "source": [
    "#special Sequences"
   ]
  },
  {
   "cell_type": "code",
   "execution_count": null,
   "metadata": {},
   "outputs": [],
   "source": [
    "# \\A -> Returns a match if the specified characters are at the beginning of the string\t\n",
    "txt = \"The rain in Spain\"\n",
    "\n",
    "#Check if the string starts with \"The\":\n",
    "\n",
    "x = re.findall(\"\\AThe\", txt)\n",
    "\n",
    "print(x)\n",
    "\n",
    "if x:\n",
    "  print(\"Yes, there is a match!\")\n",
    "else:\n",
    "  print(\"No match\")"
   ]
  },
  {
   "cell_type": "code",
   "execution_count": null,
   "metadata": {},
   "outputs": [],
   "source": [
    "# \\b -> Returns a match where the specified characters are at the \n",
    "#begining or at the end of a word\n",
    "# (the \"r\" in the beginning is making sure that the string is being treated as a \"raw string\")\n",
    "txt = \"The rain in Spain aint\"\n",
    "\n",
    "x = re.findall(r\"ain\\b\",txt) #-> check if \"ain\" is present at the END of a WORD:\n",
    "x2 = re.findall(r\"\\bain\",txt) #-> check if \"ain\" is present at the BEGINING of a word:\n",
    "x1 = re.findall(r\"cth\\b\",txt)\n",
    "\n",
    "print(x)\n",
    "print(x2)\n",
    "if x:\n",
    "    print(\"x:yes, match found\")\n",
    "else:\n",
    "    print(\"x:No match\")\n",
    "\n",
    "\n",
    "if x1:\n",
    "    print(\"x1:yes, match found\")\n",
    "else:\n",
    "    print(\"x1:No match\")"
   ]
  },
  {
   "cell_type": "code",
   "execution_count": null,
   "metadata": {},
   "outputs": [],
   "source": [
    "# \\B -> returns a match where the specified characters are present, but NOT at the\n",
    "# begining (or at the end) of a word\n",
    "txt = \"The rain in Spain paint\"\n",
    "\n",
    "x = re.findall(r\"\\Bain\",txt) #-> ain is NOT present at the begininig\n",
    "x1 = re.findall(r\"ain\\B\",txt) # -> ain is NOT present at the END\n",
    "\n",
    "print(x)\n",
    "print(x1)"
   ]
  },
  {
   "cell_type": "code",
   "execution_count": null,
   "metadata": {},
   "outputs": [],
   "source": [
    "# \\d -> returns a match the string contains digits(numbers from 0-9)\n",
    "\n",
    "#example:\n",
    "\n",
    "text1 = \"the rain in spain\"\n",
    "text2 = \" IPL 2024\"\n",
    "x = re.findall(\"\\d\",text1)\n",
    "x1 = re.findall(\"\\d\",text2)\n",
    "\n",
    "print(x)\n",
    "print(x1)"
   ]
  },
  {
   "cell_type": "code",
   "execution_count": null,
   "metadata": {},
   "outputs": [],
   "source": [
    "# \\D -> return a match where the string DOES NOT contain digits\n",
    "\n",
    "txt = \"The rain in spain\"\n",
    "dig = \"IPL 2024\"\n",
    "x = re.findall(\"\\D\",txt)\n",
    "x1= re.findall(\"\\D\",dig)\n",
    "print(x)\n",
    "print(x1)"
   ]
  },
  {
   "cell_type": "code",
   "execution_count": null,
   "metadata": {},
   "outputs": [],
   "source": []
  }
 ],
 "metadata": {
  "kernelspec": {
   "display_name": "Python 3",
   "language": "python",
   "name": "python3"
  },
  "language_info": {
   "codemirror_mode": {
    "name": "ipython",
    "version": 3
   },
   "file_extension": ".py",
   "mimetype": "text/x-python",
   "name": "python",
   "nbconvert_exporter": "python",
   "pygments_lexer": "ipython3",
   "version": "3.10.12"
  }
 },
 "nbformat": 4,
 "nbformat_minor": 2
}
